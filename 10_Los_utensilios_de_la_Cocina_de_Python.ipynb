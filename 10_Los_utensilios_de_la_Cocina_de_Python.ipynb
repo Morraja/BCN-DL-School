{
  "nbformat": 4,
  "nbformat_minor": 0,
  "metadata": {
    "colab": {
      "name": "10. Los utensilios de la Cocina de Python.ipynb",
      "provenance": [],
      "collapsed_sections": [
        "2OM0ZCzuCBgG",
        "LQ4YWNsHGIJT",
        "PtcxgwxxLs3J",
        "Ag-QzMLWPYbi",
        "L8jlOMmwRPJO"
      ],
      "toc_visible": true,
      "include_colab_link": true
    },
    "kernelspec": {
      "name": "python3",
      "display_name": "Python 3"
    }
  },
  "cells": [
    {
      "cell_type": "markdown",
      "metadata": {
        "id": "view-in-github",
        "colab_type": "text"
      },
      "source": [
        "<a href=\"https://colab.research.google.com/github/Morraja/BCN-DL-School/blob/master/10_Los_utensilios_de_la_Cocina_de_Python.ipynb\" target=\"_parent\"><img src=\"https://colab.research.google.com/assets/colab-badge.svg\" alt=\"Open In Colab\"/></a>"
      ]
    },
    {
      "cell_type": "markdown",
      "metadata": {
        "id": "SHmKFl2XjWYH"
      },
      "source": [
        "# 10. Los utensilios de la Cocina de Python\n"
      ]
    },
    {
      "cell_type": "code",
      "metadata": {
        "id": "oxhp_9vnjWYL",
        "outputId": "f0c548e8-68f5-4956-abf4-778667b333d1",
        "colab": {
          "base_uri": "https://localhost:8080/",
          "height": 34
        }
      },
      "source": [
        "print(\"Preparados, Listos,¡ya!\")"
      ],
      "execution_count": null,
      "outputs": [
        {
          "output_type": "stream",
          "text": [
            "Preparados, Listos,¡ya!\n"
          ],
          "name": "stdout"
        }
      ]
    },
    {
      "cell_type": "markdown",
      "metadata": {
        "id": "oNPcsnZajWYO"
      },
      "source": [
        "Cualquier persona puede aprender cómo programar y la mejor manera para aprender es haciéndolo. En este curso se te preguntará cómo escribir varios programas. Clica en cualquier celda de código en este tutorial, como la de abajo, y presiona **ctrl+enter**(Windows) o **command+enter**(Mac) para ejecutarla. Vamos a empezar ahora mismo y escribir nuestro primer pequeño programa.\n"
      ]
    },
    {
      "cell_type": "markdown",
      "metadata": {
        "id": "tB4RWOhZjWYQ"
      },
      "source": [
        "## Manos en la masa 1!"
      ]
    },
    {
      "cell_type": "markdown",
      "metadata": {
        "id": "zgcausGhjWYR"
      },
      "source": [
        "En la siguiente celda de código, escribe un simple programa que calcule cuántos minutos hay en siete semanas.\n"
      ]
    },
    {
      "cell_type": "code",
      "metadata": {
        "id": "xdl7SUmRCDGk"
      },
      "source": [
        ""
      ],
      "execution_count": null,
      "outputs": []
    },
    {
      "cell_type": "markdown",
      "metadata": {
        "id": "2OM0ZCzuCBgG"
      },
      "source": [
        "###Solución: Manos en la masa 1!"
      ]
    },
    {
      "cell_type": "code",
      "metadata": {
        "id": "omAGaJQSjWYS",
        "outputId": "e0b5d094-766a-4089-ed7d-e607572e6ddf",
        "colab": {
          "base_uri": "https://localhost:8080/",
          "height": 34
        }
      },
      "source": [
        "60*24*7*7"
      ],
      "execution_count": null,
      "outputs": [
        {
          "output_type": "execute_result",
          "data": {
            "text/plain": [
              "70560"
            ]
          },
          "metadata": {
            "tags": []
          },
          "execution_count": 5
        }
      ]
    },
    {
      "cell_type": "markdown",
      "metadata": {
        "id": "tvO38WznJva6"
      },
      "source": [
        ""
      ]
    },
    {
      "cell_type": "markdown",
      "metadata": {
        "id": "CSDzk8g4M8kw"
      },
      "source": [
        "## Python como calculadora avanzada\n",
        "\n",
        "Nosotros podemos utilizar las **celdas de código** como una calculadora. Empecemos con una suma\n",
        "$2 + 8$. Nosotros podemos calcular e imprimir el resultado simplemente ejecutando con el botón **Run** :"
      ]
    },
    {
      "cell_type": "code",
      "metadata": {
        "trusted": true,
        "id": "2K5xJQ74M8kx",
        "outputId": "e9307498-9767-4911-e280-f334f2474d0b",
        "colab": {
          "base_uri": "https://localhost:8080/",
          "height": 34
        }
      },
      "source": [
        "2 + 8"
      ],
      "execution_count": null,
      "outputs": [
        {
          "output_type": "execute_result",
          "data": {
            "text/plain": [
              "10"
            ]
          },
          "metadata": {
            "tags": []
          },
          "execution_count": 6
        }
      ]
    },
    {
      "cell_type": "markdown",
      "metadata": {
        "id": "dxj1ZFO2M8k1"
      },
      "source": [
        "El resto de operacions como la resta, la multiplicación y la división usan los operadores habituales conocidos, $ - $, $ * $, $ / $. El operador elevar a la potencia $ a^b $ que en excel utiliza el carácter $^$ no es el mismo en Python y se utiliza el $**$. Si queremos calcular $3^5$ tendremos que escribir \n"
      ]
    },
    {
      "cell_type": "code",
      "metadata": {
        "trusted": true,
        "id": "8r2Pd31QM8k1",
        "outputId": "837dec5e-3c80-4a58-975f-254eb0990eff",
        "colab": {
          "base_uri": "https://localhost:8080/",
          "height": 34
        }
      },
      "source": [
        "3**5"
      ],
      "execution_count": null,
      "outputs": [
        {
          "output_type": "execute_result",
          "data": {
            "text/plain": [
              "243"
            ]
          },
          "metadata": {
            "tags": []
          },
          "execution_count": 7
        }
      ]
    },
    {
      "cell_type": "markdown",
      "metadata": {
        "id": "BR0qJFZ9M8k4"
      },
      "source": [
        "Si queremos calular el indice de masa corporal, que es dado por  \n",
        "\n",
        "$$\n",
        "IMC= \\frac{Peso}{Talla^2}\n",
        "$$\n",
        "\n",
        "where $Peso$ está expresado en kilogramos (kg) y la $Talla$ está expresada en metros (m) de una persona con $78.3 kg$ y con una altura de 175 cm. El cálculo lo podemos obtener de la siguinte forma:\n"
      ]
    },
    {
      "cell_type": "code",
      "metadata": {
        "trusted": true,
        "id": "eug8tm5TM8k4",
        "outputId": "a3e55d84-30a4-4436-be64-e63560ccccf7",
        "colab": {
          "base_uri": "https://localhost:8080/",
          "height": 34
        }
      },
      "source": [
        "78.3/(175/100)**2"
      ],
      "execution_count": null,
      "outputs": [
        {
          "output_type": "execute_result",
          "data": {
            "text/plain": [
              "25.567346938775508"
            ]
          },
          "metadata": {
            "tags": []
          },
          "execution_count": 1
        }
      ]
    },
    {
      "cell_type": "markdown",
      "metadata": {
        "id": "rRGn0h-tM8lD"
      },
      "source": [
        "Otro de los operadores muy utilizado es el resto de una division $ \\frac {a} {b} $ y que utiliza el operador módulo '`%`'. Si dividimos 11 entre 3 sabemos que el resto de la división es 2:"
      ]
    },
    {
      "cell_type": "code",
      "metadata": {
        "trusted": true,
        "id": "gc2avHEBM8lE",
        "outputId": "807d2d13-a62c-4535-f583-37b333908767",
        "colab": {
          "base_uri": "https://localhost:8080/",
          "height": 34
        }
      },
      "source": [
        "11 % 3"
      ],
      "execution_count": null,
      "outputs": [
        {
          "output_type": "execute_result",
          "data": {
            "text/plain": [
              "2"
            ]
          },
          "metadata": {
            "tags": []
          },
          "execution_count": 1
        }
      ]
    },
    {
      "cell_type": "markdown",
      "metadata": {
        "id": "6n9mJfjzM8lH"
      },
      "source": [
        "Para conseguir el cociente entero de la división se utiliza el símbolo '`//`'. Si dividimos 11 entre sabemos que el cociente es 3"
      ]
    },
    {
      "cell_type": "code",
      "metadata": {
        "trusted": true,
        "id": "-mjG_AzAM8lI",
        "outputId": "5cb42894-add9-4f14-b051-20f81c4f37e8",
        "colab": {
          "base_uri": "https://localhost:8080/",
          "height": 35
        }
      },
      "source": [
        "11 // 3\n"
      ],
      "execution_count": null,
      "outputs": [
        {
          "output_type": "execute_result",
          "data": {
            "text/plain": [
              "3"
            ]
          },
          "metadata": {
            "tags": []
          },
          "execution_count": 3
        }
      ]
    },
    {
      "cell_type": "code",
      "metadata": {
        "id": "I2QOqpnja2HR",
        "outputId": "0d591bd8-a6cd-4a50-c14c-e02f69a84fe8",
        "colab": {
          "base_uri": "https://localhost:8080/",
          "height": 35
        }
      },
      "source": [
        "11/3"
      ],
      "execution_count": null,
      "outputs": [
        {
          "output_type": "execute_result",
          "data": {
            "text/plain": [
              "3.6666666666666665"
            ]
          },
          "metadata": {
            "tags": []
          },
          "execution_count": 4
        }
      ]
    },
    {
      "cell_type": "markdown",
      "metadata": {
        "id": "r1-THvKoM8lN"
      },
      "source": [
        "## Precedencia de operadores \n",
        "\n",
        "El concepto de Precedencia de operadores se refiere al orden en el que las operaciones son ejecutadas , por ejemplo la multiplicación antes que la suma\n",
        "\n",
        "Siempre que escribamos una expresión debemos de considerar lo siguiente: \n",
        "\n",
        "- La expresión debería ser siempre evaluada correctamente; y  \n",
        "- La expresión debería ser bastante simple para que alguien que lea el código comprenda la operación que está siendo ejecutada.\n",
        "\n",
        "Veamos la precedencia de operadores matemáticos con algunos ejemplos:"
      ]
    },
    {
      "cell_type": "markdown",
      "metadata": {
        "id": "z70znQ-rM8lN"
      },
      "source": [
        "Consideremos la expresión  $4 \\cdot (7 - 2) = 20$. Si nosotros no somos cuidadosos, "
      ]
    },
    {
      "cell_type": "markdown",
      "metadata": {
        "id": "y_Ti6zRJbgXg"
      },
      "source": [
        ""
      ]
    },
    {
      "cell_type": "code",
      "metadata": {
        "trusted": true,
        "id": "3T_1GDdJM8lO",
        "outputId": "e94f3587-b52d-4008-e6ea-0869fc8d6417",
        "colab": {
          "base_uri": "https://localhost:8080/",
          "height": 34
        }
      },
      "source": [
        "4*7 - 2"
      ],
      "execution_count": null,
      "outputs": [
        {
          "output_type": "execute_result",
          "data": {
            "text/plain": [
              "26"
            ]
          },
          "metadata": {
            "tags": []
          },
          "execution_count": 8
        }
      ]
    },
    {
      "cell_type": "markdown",
      "metadata": {
        "id": "NU27EjqoM8lQ"
      },
      "source": [
        "In la **celda de código** anterior , `4 * 7` is evaluado primero, y después  `2` is restado porque la  multiplicacion (\\*) va antes que la resta  (`-`) en terminos de precedencia. Se puede contralar el orden de las operaciones utilizando paréntesis:"
      ]
    },
    {
      "cell_type": "code",
      "metadata": {
        "trusted": true,
        "id": "tIDbyRktM8lR",
        "outputId": "23ddee15-d0b7-4032-9e8d-fa00c4822dca"
      },
      "source": [
        "4*(7 - 2)"
      ],
      "execution_count": null,
      "outputs": [
        {
          "output_type": "execute_result",
          "data": {
            "text/plain": [
              "20"
            ]
          },
          "metadata": {
            "tags": []
          },
          "execution_count": 5
        }
      ]
    },
    {
      "cell_type": "markdown",
      "metadata": {
        "id": "Slsw3UIGM8lU"
      },
      "source": [
        "Un ejemplo común donde la legibilidad es una preocupación es\n",
        "\n",
        "$$\n",
        "\\frac{10}{2 \\times 50} = 0.1\n",
        "$$\n",
        "\n",
        "El código"
      ]
    },
    {
      "cell_type": "code",
      "metadata": {
        "trusted": true,
        "id": "wieWexW6M8lV",
        "outputId": "97b36dfb-a6e1-43ad-df77-27ddd7885dc1"
      },
      "source": [
        "10/2*50"
      ],
      "execution_count": null,
      "outputs": [
        {
          "output_type": "execute_result",
          "data": {
            "text/plain": [
              "250.0"
            ]
          },
          "metadata": {
            "tags": []
          },
          "execution_count": 6
        }
      ]
    },
    {
      "cell_type": "markdown",
      "metadata": {
        "id": "p8Ol6Ox6M8lY"
      },
      "source": [
        "es incorrecto. La multiplicación y la división tienen la misma precedencia, y en este caso la expresión es evaluada de \n",
        " 'izquierda-a-derecha'. El correcto resultado se puede calcular como, ya que primero divide 10 entre 2 y luego el resultado 5 es dividido por 50"
      ]
    },
    {
      "cell_type": "code",
      "metadata": {
        "trusted": true,
        "id": "NWlJcr65M8lZ",
        "outputId": "7e9720be-2704-4017-9460-08de136eea93",
        "colab": {
          "base_uri": "https://localhost:8080/",
          "height": 34
        }
      },
      "source": [
        "10/2/50"
      ],
      "execution_count": null,
      "outputs": [
        {
          "output_type": "execute_result",
          "data": {
            "text/plain": [
              "0.1"
            ]
          },
          "metadata": {
            "tags": []
          },
          "execution_count": 8
        }
      ]
    },
    {
      "cell_type": "markdown",
      "metadata": {
        "id": "YqbsyHKpM8ld"
      },
      "source": [
        "pero es difícil de leer y podría fácilmente llevar a errores en el programa. Se recomienda encarecidamente el uso de los paréntesis para hacer el orden más claro:"
      ]
    },
    {
      "cell_type": "code",
      "metadata": {
        "trusted": true,
        "id": "87tcrZKwM8le",
        "outputId": "d869042a-ad50-4082-eaa3-a5d9f4b5054b",
        "colab": {
          "base_uri": "https://localhost:8080/",
          "height": 34
        }
      },
      "source": [
        "10/(2*50)"
      ],
      "execution_count": null,
      "outputs": [
        {
          "output_type": "execute_result",
          "data": {
            "text/plain": [
              "0.1"
            ]
          },
          "metadata": {
            "tags": []
          },
          "execution_count": 9
        }
      ]
    },
    {
      "cell_type": "markdown",
      "metadata": {
        "id": "7M84GnUBM8lk"
      },
      "source": [
        "Veamos ahora un ejemplo que calcula  $2^{3} \\cdot 4 = 32$ , que técnicamente es correcto pero no tiene legibilidad óptima:"
      ]
    },
    {
      "cell_type": "code",
      "metadata": {
        "trusted": true,
        "id": "ZhDgr3VeM8ll",
        "outputId": "224013fe-d164-4528-f24a-d0a06e8e250f",
        "colab": {
          "base_uri": "https://localhost:8080/",
          "height": 34
        }
      },
      "source": [
        "2**3*4"
      ],
      "execution_count": null,
      "outputs": [
        {
          "output_type": "execute_result",
          "data": {
            "text/plain": [
              "32"
            ]
          },
          "metadata": {
            "tags": []
          },
          "execution_count": 10
        }
      ]
    },
    {
      "cell_type": "markdown",
      "metadata": {
        "id": "jYUXc6uVM8lo"
      },
      "source": [
        "Es muchísimo mejor escribir:"
      ]
    },
    {
      "cell_type": "code",
      "metadata": {
        "trusted": true,
        "id": "tN9kMzkpM8lq",
        "outputId": "9e8209ab-14bd-4ebe-d2e6-6d09a710aae5",
        "colab": {
          "base_uri": "https://localhost:8080/",
          "height": 34
        }
      },
      "source": [
        "(2**3)*4"
      ],
      "execution_count": null,
      "outputs": [
        {
          "output_type": "execute_result",
          "data": {
            "text/plain": [
              "32"
            ]
          },
          "metadata": {
            "tags": []
          },
          "execution_count": 11
        }
      ]
    },
    {
      "cell_type": "markdown",
      "metadata": {
        "id": "bZ4KE6ncCj-6"
      },
      "source": [
        "## Operador asignación"
      ]
    },
    {
      "cell_type": "markdown",
      "metadata": {
        "id": "AKBY-zXbjWYV"
      },
      "source": [
        "¡Bien! Has escrito tu primer pequeño programa y lo has hecho sin ayuda. Entonces, ¿podemos usar nuestro lengaje de programación como una simple calculadora? Antes de preguntarte por escribir otro programa, primero tenemos que explicar algo sobre el operador `asignación`.\n",
        "Nosotros podemos asignar valores usando el operador `=`. Una variable es  el nombre que le damos a un valor particular, tú puedes imaginar que es una caja donde tú pones un valor dentro, y donde escribimos el nombre con una rotulador permanente, de manera que esa caja (variable) ya tiene un valor fijo que no lo podemos cambiar. La  siguiente celda de código contiene dos operaciones, Primero, nosotros asignamos el valor 2 al nombre `x`. Después esa `x` tendrá el valor de 2. Se puede decir que Python almacena el valor 2 en `x`, Finalmente nosotros imprimimos el valor usando el comando `print()`. "
      ]
    },
    {
      "cell_type": "code",
      "metadata": {
        "id": "8y37HbQkjWYW",
        "outputId": "7e3ae3d4-c9c0-4174-ad70-3b6ba3ce4157",
        "colab": {
          "base_uri": "https://localhost:8080/",
          "height": 35
        }
      },
      "source": [
        "x = 2\n",
        "print(x)"
      ],
      "execution_count": null,
      "outputs": [
        {
          "output_type": "stream",
          "text": [
            "2\n"
          ],
          "name": "stdout"
        }
      ]
    },
    {
      "cell_type": "markdown",
      "metadata": {
        "id": "hA8jFNKEjWYY"
      },
      "source": [
        "Ahora almacenamos el valor 2 en `x`, nosotros podemos usar la variable \n",
        "`x` para hacer cosas como las siguientes:"
      ]
    },
    {
      "cell_type": "code",
      "metadata": {
        "id": "WCXGmGfljWYZ",
        "outputId": "c1e0e581-f44d-43a5-86db-c94e5cbaad1f",
        "colab": {
          "base_uri": "https://localhost:8080/",
          "height": 70
        }
      },
      "source": [
        "x = 2\n",
        "print(x * x)\n",
        "print(x == x)\n",
        "print(x > 6)"
      ],
      "execution_count": null,
      "outputs": [
        {
          "output_type": "stream",
          "text": [
            "4\n",
            "True\n",
            "False\n"
          ],
          "name": "stdout"
        }
      ]
    },
    {
      "cell_type": "markdown",
      "metadata": {
        "id": "dQ7gl3gsjWYc"
      },
      "source": [
        "¿Puedes imaginarte qué esta pasando aquí?\n",
        "Con la variable hemos hecho una multiplicación y dos operaciones de comparación `==`( es igual a ) y `>`( es mayor que ). Notad que `=`es el operador asignación y `==`es el operador ( `es igual a`) son distintos. Veremos más tarde los operadores de comparación y sus resultados.\n"
      ]
    },
    {
      "cell_type": "code",
      "metadata": {
        "id": "CuAndEJxjWYc",
        "outputId": "8a2e385d-00ee-4161-8efc-1200fa130321",
        "colab": {
          "base_uri": "https://localhost:8080/",
          "height": 34
        }
      },
      "source": [
        "#Perito en lunas, primer libro de  Miguel Hernández publicado en 1933\n",
        "libro = 'Perito en lunas'\n",
        "print(libro)"
      ],
      "execution_count": null,
      "outputs": [
        {
          "output_type": "stream",
          "text": [
            "Perito en lunas\n"
          ],
          "name": "stdout"
        }
      ]
    },
    {
      "cell_type": "markdown",
      "metadata": {
        "id": "4nFsIwVLjWYf"
      },
      "source": [
        "Un string en python debe ser puesto entre comillas (tanto simple como dobles comillas). Sin esas comillas Python piensa que estamos trabajando con variables que se han definido antes. `libro`es una variable con la que asignamos el string `\"Perito en lunas\"`, pero este mismo string no es una variable sino un valor. Se podría decir que `\"Perito en lunas\"` es lo mismo que en el ejemplo anterior era 2 y `libro` es `x`, por tanto `libro`es la caja y `\"Perito en lunas\"`sería lo que escribimos con el rotulador permanente.\n",
        "\n",
        "Los nombres de las variables pueden ser elegidos arbitrariamente. *Nosotros* damos un cierto valor de nombre, y nosotros somos libres de elegir el que nos guste. Pero es recomendable usar nombres con sentido para que usemos los nombres en nuestro código directamente y no los valores que ellos contienen.\n"
      ]
    },
    {
      "cell_type": "code",
      "metadata": {
        "id": "JGFNkZZ5jWYf",
        "outputId": "a825b486-fdcc-4d47-dd4e-df53bd54e7ba",
        "colab": {
          "base_uri": "https://localhost:8080/",
          "height": 35
        }
      },
      "source": [
        "# no recomendado...\n",
        "banana = \"Perito en lunas\"\n",
        "print(banana)"
      ],
      "execution_count": null,
      "outputs": [
        {
          "output_type": "stream",
          "text": [
            "Perito en lunas\n"
          ],
          "name": "stdout"
        }
      ]
    },
    {
      "cell_type": "markdown",
      "metadata": {
        "id": "ze56UygTjWYi"
      },
      "source": [
        "Eres libre de usar `banana` pero esta palabra no muestra lo que de verdad es `\"Perito en lunas\"`(es un libro y por eso es mejor poner la variable `libro`).\n",
        "\n",
        "Las variables pueden cambiar y nosotros podemos actualizar las variables. Di cuántos libros tenemos en la oficina:"
      ]
    },
    {
      "cell_type": "code",
      "metadata": {
        "id": "ysnFGYRVjWYj"
      },
      "source": [
        "numero_de_libros = 100"
      ],
      "execution_count": null,
      "outputs": []
    },
    {
      "cell_type": "markdown",
      "metadata": {
        "id": "Vrp5qKTDjWYl"
      },
      "source": [
        "Entonces, cuando obtenemos un nuevo libro, nosotros podemos actualizar el número de libros ( básicamente es sumar al valor  de la variable anterior el número de nuevos libros, y esto dará el actual número de libros), por lo que:"
      ]
    },
    {
      "cell_type": "code",
      "metadata": {
        "id": "Tgjzh8HijWYm",
        "outputId": "d135e918-44f8-4ba9-972c-8504a3b8cb17",
        "colab": {
          "base_uri": "https://localhost:8080/",
          "height": 35
        }
      },
      "source": [
        "numero_de_libros = 100\n",
        "numero_de_libros = numero_de_libros + 1\n",
        "print(numero_de_libros)"
      ],
      "execution_count": null,
      "outputs": [
        {
          "output_type": "stream",
          "text": [
            "101\n"
          ],
          "name": "stdout"
        }
      ]
    },
    {
      "cell_type": "markdown",
      "metadata": {
        "id": "qhxug8ScjWYn"
      },
      "source": [
        "Actualizaciones como esta pasan con frecuencia. Por tanto Python da un atajo y permite escribir la misma cosa usando `+=` (esto se refiere a que ahora la variable `numero_de_libros`es igual al valor de esa variable más 5):"
      ]
    },
    {
      "cell_type": "code",
      "metadata": {
        "id": "QW7qD3zmjWYo",
        "outputId": "6d1986e1-c38f-426f-ab3f-204d89422e5e",
        "colab": {
          "base_uri": "https://localhost:8080/",
          "height": 104
        }
      },
      "source": [
        "numero_de_libros = 100 \n",
        "print(numero_de_libros)\n",
        "numero_de_libros += 100\n",
        "print(numero_de_libros)\n",
        "numero_de_libros *= 2\n",
        "print(numero_de_libros)\n",
        "numero_de_libros /= 4\n",
        "print(numero_de_libros)\n",
        "numero_de_libros -= 50\n",
        "print(numero_de_libros)"
      ],
      "execution_count": null,
      "outputs": [
        {
          "output_type": "stream",
          "text": [
            "100\n",
            "200\n",
            "400\n",
            "100.0\n",
            "50.0\n"
          ],
          "name": "stdout"
        }
      ]
    },
    {
      "cell_type": "markdown",
      "metadata": {
        "id": "9mekWwfRjWYs"
      },
      "source": [
        "Por ahora la última cosa interesante que nos gustaría mencionar sobre las variables es que podemos asignar el valor de un variable a otra variable. Lo explicaremos más tarde, pero aquí solo hace falta entender el mecanismo básico. Antes de evaluar la siguiente celda de código, ¿puedes predecir qué imprimirá Python?"
      ]
    },
    {
      "cell_type": "code",
      "metadata": {
        "id": "9wkNq5N3jWYt",
        "outputId": "c4d7e1c3-3e9d-4dad-9cfa-942b4591ada3",
        "colab": {
          "base_uri": "https://localhost:8080/",
          "height": 34
        }
      },
      "source": [
        "libro = \"Perito en lunas\"\n",
        "leyendo = libro\n",
        "print(leyendo)"
      ],
      "execution_count": null,
      "outputs": [
        {
          "output_type": "stream",
          "text": [
            "Perito en lunas\n"
          ],
          "name": "stdout"
        }
      ]
    },
    {
      "cell_type": "markdown",
      "metadata": {
        "id": "KiXwW48ojWYv"
      },
      "source": [
        "----------"
      ]
    },
    {
      "cell_type": "markdown",
      "metadata": {
        "id": "UGEOGbyajWYw"
      },
      "source": [
        "###Manos en la masa 2!"
      ]
    },
    {
      "cell_type": "markdown",
      "metadata": {
        "id": "vBtYMEWxjWYx"
      },
      "source": [
        "Ahora que ya entiendes todo sobre asignar valores a variables, es tiempo de nuestra segunda elaboración. Queremos que escribas la variable *nombre* y le asignes una cadena de caracteres que sea tu nombre e imprimas el valor de esa variable utilizando el comando print. Si tu nombre es más corto de cinco letras, usa tu apellido. Si tu apellido también tiene menos de cinco letras, usa la combinación de tu nombre y apellido."
      ]
    },
    {
      "cell_type": "code",
      "metadata": {
        "id": "OQfuCvN_jWYy"
      },
      "source": [
        ""
      ],
      "execution_count": null,
      "outputs": []
    },
    {
      "cell_type": "markdown",
      "metadata": {
        "id": "LQ4YWNsHGIJT"
      },
      "source": [
        "###Solución Manos en la masa 2!"
      ]
    },
    {
      "cell_type": "code",
      "metadata": {
        "id": "SeTkWS6GGIJW",
        "outputId": "09c6fd3d-7ee2-404c-dc9a-1981de2548c4",
        "colab": {
          "base_uri": "https://localhost:8080/"
        }
      },
      "source": [
        "nombre = \"Fernando\"\n",
        "print(nombre)"
      ],
      "execution_count": null,
      "outputs": [
        {
          "output_type": "stream",
          "text": [
            "Fernando\n"
          ],
          "name": "stdout"
        }
      ]
    },
    {
      "cell_type": "markdown",
      "metadata": {
        "id": "-g-QtiCj7EQt"
      },
      "source": [
        "## Función \"print\"\n",
        "\n",
        "La función __print__ nos permite imprimir en consola una variable,  expresiones, etc... "
      ]
    },
    {
      "cell_type": "code",
      "metadata": {
        "id": "KbE0UNky7EQt",
        "outputId": "c974ccde-2a8b-4c19-e6ea-bab53d2076a7",
        "colab": {
          "base_uri": "https://localhost:8080/",
          "height": 34
        }
      },
      "source": [
        "num = 322\n",
        "print(num)"
      ],
      "execution_count": null,
      "outputs": [
        {
          "output_type": "stream",
          "text": [
            "322\n"
          ],
          "name": "stdout"
        }
      ]
    },
    {
      "cell_type": "code",
      "metadata": {
        "id": "JWrgXVqg7EQv",
        "outputId": "3f06a4ea-179b-4b15-a37a-61652c42188a",
        "colab": {
          "base_uri": "https://localhost:8080/",
          "height": 34
        }
      },
      "source": [
        "num = num + 1 \n",
        "print(num)"
      ],
      "execution_count": null,
      "outputs": [
        {
          "output_type": "stream",
          "text": [
            "323\n"
          ],
          "name": "stdout"
        }
      ]
    },
    {
      "cell_type": "markdown",
      "metadata": {
        "id": "uC7FEWC37EQw"
      },
      "source": [
        "Sin embargo, existen reglas a la hora de declarar variables, entre ellas tenemos:\n",
        "\n",
        "![Alt text](https://drive.google.com/thumbnail?id=1e7zASXuz3uGT1mukRPPUXbJHuEIGzWke&sz=w800)\n",
        "    \n",
        "\n"
      ]
    },
    {
      "cell_type": "markdown",
      "metadata": {
        "id": "_GOFd90c7EQx"
      },
      "source": [
        "Además existen palabras reservadas que no pueden ser usadas como nombres para variables"
      ]
    },
    {
      "cell_type": "markdown",
      "metadata": {
        "id": "IwBRZFVe7EQx"
      },
      "source": [
        "\n",
        "![Alt text](https://drive.google.com/thumbnail?id=1EquEotO1cr8kujKzpg5VxKdZMuG9mvSH&sz=w800)\n",
        "    "
      ]
    },
    {
      "cell_type": "markdown",
      "metadata": {
        "id": "hLkG5gh77EQy"
      },
      "source": [
        "**`print()`** es una función muy útil ya que nos permite imprimir el valor de una variable o el resultado de una comparación."
      ]
    },
    {
      "cell_type": "markdown",
      "metadata": {
        "id": "RSq8UCF7jWY1"
      },
      "source": [
        "## Lo que hemos aprendido"
      ]
    },
    {
      "cell_type": "markdown",
      "metadata": {
        "id": "yyxU4Ta0jWY1"
      },
      "source": [
        "Para finalizar esta sección, aquí esta un resumen de los conceptos que tú has aprendido. Mira la lista y asegúrate de que has entendido todos los conceptos.\n",
        "\n",
        "-  variable\n",
        "-  valor\n",
        "-  asignación de variables\n",
        "-  diferencia entre valores y variables\n",
        "-  strings (cadena de caracteres)\n",
        "-  enteros\n",
        "-  variación de variables"
      ]
    },
    {
      "cell_type": "markdown",
      "metadata": {
        "id": "JhptApCkjWY3"
      },
      "source": [
        "##Manipulación de cadenas/strings"
      ]
    },
    {
      "cell_type": "markdown",
      "metadata": {
        "id": "82WyqzadjWY4"
      },
      "source": [
        "Muchas disciplinas científicas trabajan con textos. Nosotros ya hemos visto  algo de aritmética básica en nuestro primer cálculo. No solo números sino también strings pueden ser añadidos o más concretamente concatenados juntos como (se refiere a que no solo podemos añadir números sino que también podemos juntar distintos strings como nombres o títulos de libros): "
      ]
    },
    {
      "cell_type": "code",
      "metadata": {
        "id": "_VvqciScjWY4",
        "outputId": "8a0b5181-6d79-4b6c-bf54-0c4583779816",
        "colab": {
          "base_uri": "https://localhost:8080/",
          "height": 34
        }
      },
      "source": [
        "nombre=\"Fernando\"\n",
        "libro = \"Perito en lunas\"\n",
        "print(\"¿A \"+ nombre + \" le gusta \" + libro + \"?\")"
      ],
      "execution_count": null,
      "outputs": [
        {
          "output_type": "stream",
          "text": [
            "¿A Fernando le gusta Perito en lunas?\n"
          ],
          "name": "stdout"
        }
      ]
    },
    {
      "cell_type": "markdown",
      "metadata": {
        "id": "hxtcfeaHjWY7"
      },
      "source": [
        "Este string consiste en un número de caracteres. \n",
        "\n",
        "![Alt text](https://drive.google.com/thumbnail?id=1C4bw6ZYEN1CuMBHu5-JWgKB5kXVoJ6CB&sz=w800)\n",
        "\n",
        "\n",
        "Nosotros podemos acceder a un número de caracteres gracias a la `indexación`. Por ejemplo, para encontrar la primera letra de tu nombre, podemos escribir:\n"
      ]
    },
    {
      "cell_type": "code",
      "metadata": {
        "id": "_wh4tj9FjWY7",
        "outputId": "02597c96-bd54-434e-cb1d-9a55be2b098d",
        "colab": {
          "base_uri": "https://localhost:8080/",
          "height": 34
        }
      },
      "source": [
        "primera_letra = nombre[0]\n",
        "print(primera_letra)"
      ],
      "execution_count": null,
      "outputs": [
        {
          "output_type": "stream",
          "text": [
            "F\n"
          ],
          "name": "stdout"
        }
      ]
    },
    {
      "cell_type": "markdown",
      "metadata": {
        "id": "7PODjEHCIyN8"
      },
      "source": [
        "Para hacerlo lo que hemos hecho es asignar a una variable nombre[0] en el caso de ser la primera letra (empezamos a contar a partir del 0, de manera que para saber la segunda letra deberíamos poner el número 1 entre los corchetes)."
      ]
    },
    {
      "cell_type": "code",
      "metadata": {
        "id": "9FnMaGnLJIk3",
        "outputId": "231e388e-af4f-4ae2-e9fe-be82d2d26f7c",
        "colab": {
          "base_uri": "https://localhost:8080/",
          "height": 35
        }
      },
      "source": [
        "segunda_letra=nombre[1]\n",
        "print(segunda_letra)"
      ],
      "execution_count": null,
      "outputs": [
        {
          "output_type": "stream",
          "text": [
            "e\n"
          ],
          "name": "stdout"
        }
      ]
    },
    {
      "cell_type": "markdown",
      "metadata": {
        "id": "UL6aw-0-jWY9"
      },
      "source": [
        "Recordar que para indicar la primera letra, nosotros usamos el índice `0`. Puede parecer extraño, pero recordar que los indices en Python comienzan en 0."
      ]
    },
    {
      "cell_type": "markdown",
      "metadata": {
        "id": "3AH0NWuXjWY_"
      },
      "source": [
        "###Manos en la masa 3!"
      ]
    },
    {
      "cell_type": "markdown",
      "metadata": {
        "id": "XgfGr4vHjWY_"
      },
      "source": [
        "Ahora, si sabes cuántas letras tiene tu nombre puedes averiguar la última letra (hacer lo mismo que en el caso de la primera letra pero entre los corchetes en lugar de poner 0, que recordamos que era el número por donde empieza el índice, ponemos el número de letras restándole uno, por ejemplo, 'Fernando' tiene 8 letras, pues para saber cuál es la última de ellas, en el corchete se pone un 7 (8-1=7)):"
      ]
    },
    {
      "cell_type": "code",
      "metadata": {
        "id": "_ngMplz3jWZA"
      },
      "source": [
        ""
      ],
      "execution_count": null,
      "outputs": []
    },
    {
      "cell_type": "markdown",
      "metadata": {
        "id": "NpkG2DRJJ0C5"
      },
      "source": [
        "###Solución Manos en la masa 3!"
      ]
    },
    {
      "cell_type": "code",
      "metadata": {
        "id": "YA9xpJqkJ0C7",
        "outputId": "37e0366b-f621-4e91-f0c3-0c8160bebf79",
        "colab": {
          "base_uri": "https://localhost:8080/",
          "height": 35
        }
      },
      "source": [
        "ultima_letra = nombre[7]\n",
        "print(ultima_letra)"
      ],
      "execution_count": null,
      "outputs": [
        {
          "output_type": "stream",
          "text": [
            "o\n"
          ],
          "name": "stdout"
        }
      ]
    },
    {
      "cell_type": "markdown",
      "metadata": {
        "id": "89Fnua2UKy5c"
      },
      "source": [
        "## Indexación de cadenas"
      ]
    },
    {
      "cell_type": "markdown",
      "metadata": {
        "id": "U1IjoyT0jWZC"
      },
      "source": [
        "Puede ser un inconveniente tener que conocer cuántas letras tiene nuestro string para encontrar la última letra. Por eso Python nos da una forma simple de averiguar la última letra:\n",
        " \n",
        " Para hacerlo en vez de poner entre los corchetes el número que correspondería a la última letra, lo que hacemos es poner \"-\" y la posición que queremos, de manera que si queremos saber la última letra pondríamos dentro del corchete -1, si quisiéramos averiguar la penúltima letra escribiríamos -2, y así sucesivamente"
      ]
    },
    {
      "cell_type": "code",
      "metadata": {
        "id": "lNh1uI5FjWZD",
        "outputId": "15b6f1d6-0dff-4188-b838-7795f1c7f7de",
        "colab": {
          "base_uri": "https://localhost:8080/",
          "height": 34
        }
      },
      "source": [
        "ultima_letra = nombre[-1]\n",
        "print(ultima_letra)"
      ],
      "execution_count": null,
      "outputs": [
        {
          "output_type": "stream",
          "text": [
            "o\n"
          ],
          "name": "stdout"
        }
      ]
    },
    {
      "cell_type": "markdown",
      "metadata": {
        "id": "aFJGLP1njWZF"
      },
      "source": [
        "Alternativamente, está la función `len()`que nos indica la longitud del string:"
      ]
    },
    {
      "cell_type": "code",
      "metadata": {
        "id": "UkcRQi-PjWZG",
        "outputId": "ba8c6f4e-6588-4c6d-ee46-211a49188418",
        "colab": {
          "base_uri": "https://localhost:8080/",
          "height": 34
        }
      },
      "source": [
        "nombre=\"Fernando\"\n",
        "print(len(nombre))"
      ],
      "execution_count": null,
      "outputs": [
        {
          "output_type": "stream",
          "text": [
            "8\n"
          ],
          "name": "stdout"
        }
      ]
    },
    {
      "cell_type": "markdown",
      "metadata": {
        "id": "ia29k2RwjWZI"
      },
      "source": [
        "¿Entiendes lo siguiente?\n",
        "\n",
        "Lo que hacemos al poner `len()`-1 es indicar cual es la última letra del string, si pusiéramos -2 nos indicaría la penúltima letra del string."
      ]
    },
    {
      "cell_type": "code",
      "metadata": {
        "id": "xQ32kgVVjWZI",
        "outputId": "5520d659-2a28-40e0-ee52-a5ae210704b3",
        "colab": {
          "base_uri": "https://localhost:8080/",
          "height": 34
        }
      },
      "source": [
        "print(nombre[len(nombre)-1])"
      ],
      "execution_count": null,
      "outputs": [
        {
          "output_type": "stream",
          "text": [
            "o\n"
          ],
          "name": "stdout"
        }
      ]
    },
    {
      "cell_type": "markdown",
      "metadata": {
        "id": "D46UQhYkjWZL"
      },
      "source": [
        "###Manos en la masa 4!"
      ]
    },
    {
      "cell_type": "markdown",
      "metadata": {
        "id": "Yeh2T3U9jWZM"
      },
      "source": [
        "¿Puedes escribir un programa que defina la variable `penultima_letra` y asignarle la penúltima letra de tu nombre?\n",
        "Para hacerlo seguimos el mismo procedimiento de arriba, escribimos nombre (que sería el string, siendo `penultima_letra`la variable) y entre corchetes - seguido del número que empezaría por la cola, por ejemplo, si fuese la última letra pondríamos -1, la penúltima-2, y así sucesivamente ( si ponemos un número mayor que el de el número de letras del nombre no funcionará dando error)"
      ]
    },
    {
      "cell_type": "code",
      "metadata": {
        "id": "-g1LBkVmjWZN"
      },
      "source": [
        ""
      ],
      "execution_count": null,
      "outputs": []
    },
    {
      "cell_type": "markdown",
      "metadata": {
        "id": "PtcxgwxxLs3J"
      },
      "source": [
        "###Solución Manos en la masa 4!"
      ]
    },
    {
      "cell_type": "markdown",
      "metadata": {
        "id": "HQnFpcohLs3L"
      },
      "source": [
        "¿Puedes escribir un programa que defina la variable `penultima_letra` y asignarle la penúltima letra de tu nombre?\n",
        "Para hacerlo seguimos el mismo procedimiento de arriba, escribimos nombre (que sería el string, siendo `penultima_letra`la variable) y entre corchetes - seguido del número que empezaría por la cola, por ejemplo, si fuese la última letra pondríamos -1, la penúltima-2, y así sucesivamente ( si ponemos un número mayor que el de el número de letras del nombre no funcionará dando error)"
      ]
    },
    {
      "cell_type": "code",
      "metadata": {
        "id": "d2GjS2l7Ls3M"
      },
      "source": [
        "penultima_letra = nombre[-2]\n",
        "print(penultima_letra)\n",
        "\n",
        "penultima_letra=nombre[len(nombre)-2]\n",
        "print(penultima_letra)"
      ],
      "execution_count": null,
      "outputs": []
    },
    {
      "cell_type": "markdown",
      "metadata": {
        "id": "9WEb_7N0MO9T"
      },
      "source": [
        "## Slicing de strings ( fileteado/rebanado de cadenas)"
      ]
    },
    {
      "cell_type": "markdown",
      "metadata": {
        "id": "hT-TL3LjjWZQ"
      },
      "source": [
        "El fileteado(slicing) es una capacidad de las cadenas que devuelve un subconjunto o subcadena utilizando dos índices [inicio:fin]:\n",
        "\n",
        "- El primer índice indica donde empieza la subcadena (se incluye el carácter).\n",
        "- El segundo índice indica donde acaba la subcadena (se excluye el carácter).\n",
        "\n",
        "El operador rango  `:` se parece a como se utiliza el operador en excel \n",
        "\n",
        "![Alt text](https://drive.google.com/thumbnail?id=1Dn2Wod2exqZH6P2miBiBmfd5kdIqeARk&sz=w800)\n",
        "\n",
        "pero con la diferencia que no incluye el límite superior.\n"
      ]
    },
    {
      "cell_type": "code",
      "metadata": {
        "id": "UCKytqdxjWZQ",
        "outputId": "8c5c867d-f010-4724-8423-0f28b4007837",
        "colab": {
          "base_uri": "https://localhost:8080/",
          "height": 34
        }
      },
      "source": [
        "nombre= \"Fernando\"\n",
        "primeras_dos_letras = nombre[0:2]\n",
        "print(primeras_dos_letras)"
      ],
      "execution_count": null,
      "outputs": [
        {
          "output_type": "stream",
          "text": [
            "Fe\n"
          ],
          "name": "stdout"
        }
      ]
    },
    {
      "cell_type": "markdown",
      "metadata": {
        "id": "ABsDUsN-MrYu"
      },
      "source": [
        "\n",
        "El string seguido de dos corchetes, dentro de los mismos escribimos el número por que el que queremos empezar a contar (recordamos que Python SIEMPRE empieza a contar a partir de 0) dos puntos (:) y el número de la letra hasta la que queremos contar sumándole 1. Por ejemplo, si queremos averiguar las dos primeras letras del nomnre pondremos [0:2] 0 desde el que queremos empezar a contar y 2 la posición de la letra que queremos averiguar sumándole 1 (1(posición de la i)+1=2), si quisiéramos averiguar las tres primeras letras, en lugar de poner 2 pondríamos 3 [0:3]. Del mismo modo si quisiéramos saber cuáles son la segunda y la tercera letra escribiríamos [1:3] (para que empezara a contar a partir de la segunda letra)"
      ]
    },
    {
      "cell_type": "markdown",
      "metadata": {
        "id": "2C5-3JZ7jWZS"
      },
      "source": [
        "El index `0`es opcional, por lo que nosotros podemos poner tan solo `nombre [:2]`Lo que quiere decir que coja todos los caracteres hasta llegar al índice 2. Nosotros también podemos empezar en el índice 2 y dejar inespecificado el final del mismo [2:]:"
      ]
    },
    {
      "cell_type": "code",
      "metadata": {
        "id": "nTGdxaGqjWZT",
        "outputId": "2e0273d6-5550-400e-931b-bc5072dd34af",
        "colab": {
          "base_uri": "https://localhost:8080/",
          "height": 34
        }
      },
      "source": [
        "nombre = \"Fernando\"\n",
        "sin_primeras_dos_letras = nombre[2:]\n",
        "print(sin_primeras_dos_letras)"
      ],
      "execution_count": null,
      "outputs": [
        {
          "output_type": "stream",
          "text": [
            "rnando\n"
          ],
          "name": "stdout"
        }
      ]
    },
    {
      "cell_type": "markdown",
      "metadata": {
        "id": "h67eHe04jWZV"
      },
      "source": [
        "Como no hemos especificado dónde debe acabar, Python continua hasta que llegue al final del string. Si quisiéramos encontrar cuáles son la dos últimas letras de nuestro nombre, podríamos escribir: \n"
      ]
    },
    {
      "cell_type": "code",
      "metadata": {
        "id": "xtNg_Q6KjWZV",
        "outputId": "be91c660-a7bc-4bd5-91fe-0f63c1843fb9",
        "colab": {
          "base_uri": "https://localhost:8080/",
          "height": 34
        }
      },
      "source": [
        "ultimas_dos_letras = nombre[-2:]\n",
        "print(ultimas_dos_letras)"
      ],
      "execution_count": null,
      "outputs": [
        {
          "output_type": "stream",
          "text": [
            "do\n"
          ],
          "name": "stdout"
        }
      ]
    },
    {
      "cell_type": "markdown",
      "metadata": {
        "id": "Q_iUudoaOOq4"
      },
      "source": [
        "\n",
        "Lo mismo que en el anterior, ponemos por dónde queremos que empiece (-2) que se corresponde con la penúltima letra del string y dejamos inespecificado dónde tiene que acabar, de esta manera irá desde -2 (la penúltima etra) hasta que acabe el string (en este caso hasta la m, que es la última letra)"
      ]
    },
    {
      "cell_type": "markdown",
      "metadata": {
        "id": "RH5XawmkjWZY"
      },
      "source": [
        "Fíjate en la siguiente imagen. ¿Lo entiendes por completo?\n",
        "\n",
        "Esto se refiere a que es lo mismo poner [-12:-7] y [0:5] o [6:10] y [-6:-2]\n",
        "<div style=\"float: center;\"><img style=\"float: center;\" src=\"http://www.nltk.org/images/string-slicing.png\" align=center /></div>"
      ]
    },
    {
      "cell_type": "markdown",
      "metadata": {
        "id": "5j2nnAMEjWZZ"
      },
      "source": [
        "### Manos en la masa 5!"
      ]
    },
    {
      "cell_type": "markdown",
      "metadata": {
        "id": "sNFf-vIdjWZa"
      },
      "source": [
        "¿Puedes definir la variable `letras_intermedias`y asignarle todas las letras de tu nombre menos las dos primeras y las dos últimas?\n",
        "\n",
        "Para ello lo que hacemos es escribir name seguido de los corchetes entre los cuales escribimos desde donde queremos empezar, en este caso 2 que se corresponde con la tercera letra y hasta dónde queremos llegar, en este caso -2 que es la pnúltima letra."
      ]
    },
    {
      "cell_type": "code",
      "metadata": {
        "id": "iA2VFZ9PjWZa"
      },
      "source": [
        ""
      ],
      "execution_count": null,
      "outputs": []
    },
    {
      "cell_type": "markdown",
      "metadata": {
        "id": "Ag-QzMLWPYbi"
      },
      "source": [
        "### Solución Manos en la masa 5!"
      ]
    },
    {
      "cell_type": "markdown",
      "metadata": {
        "id": "eGoNTd0oPYbj"
      },
      "source": [
        "Para ello lo que hacemos es escribir `nombre` seguido de los corchetes entre los cuales escribimos desde donde queremos empezar, en este caso 2 que se corresponde con la tercera letra y hasta dónde queremos llegar, en este caso -2 que es la penúltima letra."
      ]
    },
    {
      "cell_type": "code",
      "metadata": {
        "id": "mS-bnUU8PYbk",
        "outputId": "6ab9d044-0d8c-405e-92e1-c2711ac42ca9",
        "colab": {
          "base_uri": "https://localhost:8080/",
          "height": 35
        }
      },
      "source": [
        "nombre = \"Fernando\"\n",
        "letras_intermedias = nombre [2:-2]\n",
        "print(letras_intermedias)"
      ],
      "execution_count": null,
      "outputs": [
        {
          "output_type": "stream",
          "text": [
            "rnan\n"
          ],
          "name": "stdout"
        }
      ]
    },
    {
      "cell_type": "markdown",
      "metadata": {
        "id": "--ew5ANuP2_6"
      },
      "source": [
        "### Manos en la masa 6!"
      ]
    },
    {
      "cell_type": "markdown",
      "metadata": {
        "id": "gX_R8TkzjWZc"
      },
      "source": [
        "Dándote las palabras `murcielago' y 'ayuntamiento', ¿podrías escribir un código que concatene todas las letras de la primera palabra sin la primera y la última letra y todas las letras de la segunda palabra sin las dos primeras y las dos últimas letras usando solo slicing y concatenación? \n"
      ]
    },
    {
      "cell_type": "code",
      "metadata": {
        "id": "omK05vTGjWZd"
      },
      "source": [
        ""
      ],
      "execution_count": null,
      "outputs": []
    },
    {
      "cell_type": "markdown",
      "metadata": {
        "id": "L8jlOMmwRPJO"
      },
      "source": [
        "### Solución Manos en la masa 6!"
      ]
    },
    {
      "cell_type": "code",
      "metadata": {
        "id": "JX3bcnHqRPJR",
        "outputId": "02b45756-e592-4f56-9c3a-890f09a1d728",
        "colab": {
          "base_uri": "https://localhost:8080/",
          "height": 35
        }
      },
      "source": [
        "palabra1 = \"murcielago\"\n",
        "palabra2 = \"ayuntamiento\"\n",
        "\n",
        "print(palabra1[1:-1]  + palabra2[2:-2] )"
      ],
      "execution_count": null,
      "outputs": [
        {
          "output_type": "stream",
          "text": [
            "urcielaguntamien\n"
          ],
          "name": "stdout"
        }
      ]
    },
    {
      "cell_type": "markdown",
      "metadata": {
        "id": "ClHfVAaYjWZg"
      },
      "source": [
        "## Lo que hemos aprendido"
      ]
    },
    {
      "cell_type": "markdown",
      "metadata": {
        "id": "7loFB8_ejWZg"
      },
      "source": [
        "Para acabar esta sección, aquí hay un resumen de lo que se ha aprendido. Mira la lista y asegúrate de que has entendido todos los conceptos.\n",
        "\n",
        "-  concatenación (adición de strings)\n",
        "-  indexar\n",
        "-  slicing\n",
        "-  `len()` (contar el número de caracteres de un string)"
      ]
    },
    {
      "cell_type": "markdown",
      "metadata": {
        "id": "y9b-rcUqjWbl"
      },
      "source": [
        "\n",
        "Traducción y adaptación libre de Fernando Borras (f.borras@umh.es)\n",
        "\n",
        "<p><small><a rel=\"license\" href=\"http://creativecommons.org/licenses/by-sa/4.0/\"><img alt=\"Creative Commons License\" style=\"border-width:0\" src=\"https://i.creativecommons.org/l/by-sa/4.0/88x31.png\" /></a><br /><span xmlns:dct=\"http://purl.org/dc/terms/\" property=\"dct:title\">Python Programming for the Humanities</span> by <a xmlns:cc=\"http://creativecommons.org/ns#\" href=\"http://fbkarsdorp.github.io/python-course\" property=\"cc:attributionName\" rel=\"cc:attributionURL\">http://fbkarsdorp.github.io/python-course</a> is licensed under a <a rel=\"license\" href=\"http://creativecommons.org/licenses/by-sa/4.0/\">Creative Commons Attribution-ShareAlike 4.0 International License</a>. Based on a work at <a xmlns:dct=\"http://purl.org/dc/terms/\" href=\"https://github.com/fbkarsdorp/python-course\" rel=\"dct:source\">https://github.com/fbkarsdorp/python-course</a>.</small></p>"
      ]
    }
  ]
}